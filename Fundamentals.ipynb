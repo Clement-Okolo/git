{
 "cells": [
  {
   "cell_type": "code",
   "execution_count": 1,
   "id": "9b559296",
   "metadata": {},
   "outputs": [
    {
     "name": "stdout",
     "output_type": "stream",
     "text": [
      "Edureka\n"
     ]
    }
   ],
   "source": [
    "#variables and data types\n",
    "\n",
    "name= \"Edureka\"\n",
    "print(name)"
   ]
  },
  {
   "cell_type": "code",
   "execution_count": 2,
   "id": "beccc970",
   "metadata": {},
   "outputs": [],
   "source": [
    "A = \"python\"\n",
    "a = \"anaconda\""
   ]
  },
  {
   "cell_type": "code",
   "execution_count": 3,
   "id": "34661772",
   "metadata": {},
   "outputs": [
    {
     "name": "stdout",
     "output_type": "stream",
     "text": [
      "python anaconda\n"
     ]
    }
   ],
   "source": [
    "print(A, a)"
   ]
  },
  {
   "cell_type": "code",
   "execution_count": 4,
   "id": "18606b79",
   "metadata": {},
   "outputs": [],
   "source": [
    "#list\n",
    "\n",
    "a = [1,2,3,4,5,6]"
   ]
  },
  {
   "cell_type": "code",
   "execution_count": 5,
   "id": "2454c4e2",
   "metadata": {},
   "outputs": [
    {
     "data": {
      "text/plain": [
       "[2, 3]"
      ]
     },
     "execution_count": 5,
     "metadata": {},
     "output_type": "execute_result"
    }
   ],
   "source": [
    "a[1:3]"
   ]
  },
  {
   "cell_type": "code",
   "execution_count": 8,
   "id": "78a8a3f6",
   "metadata": {},
   "outputs": [],
   "source": [
    "#sets\n",
    "\n",
    "a = {1,2,3,4,4,5,6,6}"
   ]
  },
  {
   "cell_type": "code",
   "execution_count": 9,
   "id": "b4a4462e",
   "metadata": {},
   "outputs": [
    {
     "name": "stdout",
     "output_type": "stream",
     "text": [
      "{1, 2, 3, 4, 5, 6}\n"
     ]
    }
   ],
   "source": [
    "print(a)"
   ]
  },
  {
   "cell_type": "code",
   "execution_count": 10,
   "id": "df7cdf46",
   "metadata": {},
   "outputs": [
    {
     "name": "stdout",
     "output_type": "stream",
     "text": [
      "(1, 2, 3, 4, 5, 6, 7, 8)\n"
     ]
    }
   ],
   "source": [
    "#tuple\n",
    "\n",
    "a = (1,2,3,4,5,6,7,8)\n",
    "print(a)"
   ]
  },
  {
   "cell_type": "code",
   "execution_count": 11,
   "id": "352fe16a",
   "metadata": {},
   "outputs": [],
   "source": [
    "#dictionary\n",
    "\n",
    "a = {\"a\":1, \"b\": 2, \"c\": 3}"
   ]
  },
  {
   "cell_type": "code",
   "execution_count": 12,
   "id": "a94ea262",
   "metadata": {},
   "outputs": [
    {
     "name": "stdout",
     "output_type": "stream",
     "text": [
      "{'a': 1, 'b': 2, 'c': 3}\n"
     ]
    }
   ],
   "source": [
    "print(a)"
   ]
  },
  {
   "cell_type": "code",
   "execution_count": 2,
   "id": "61ff10d4",
   "metadata": {},
   "outputs": [
    {
     "data": {
      "text/plain": [
       "24"
      ]
     },
     "execution_count": 2,
     "metadata": {},
     "output_type": "execute_result"
    }
   ],
   "source": [
    "def fact(n):\n",
    "    if n == 1:\n",
    "        return n\n",
    "    else:\n",
    "        return n * fact(n-1)\n",
    "fact(4)"
   ]
  },
  {
   "cell_type": "code",
   "execution_count": 3,
   "id": "0e57ff77",
   "metadata": {},
   "outputs": [
    {
     "name": "stdout",
     "output_type": "stream",
     "text": [
      "1\n",
      "2\n",
      "3\n",
      "4\n"
     ]
    }
   ],
   "source": [
    "a = [1,2,3,4]\n",
    "\n",
    "for i in a:\n",
    "    print(i)"
   ]
  },
  {
   "cell_type": "code",
   "execution_count": 4,
   "id": "9f27fd23",
   "metadata": {},
   "outputs": [
    {
     "name": "stdout",
     "output_type": "stream",
     "text": [
      "0\n",
      "1\n",
      "2\n",
      "3\n",
      "4\n",
      "5\n",
      "6\n",
      "7\n",
      "8\n",
      "9\n"
     ]
    }
   ],
   "source": [
    "for i in range(0,10):\n",
    "    print(i)"
   ]
  },
  {
   "cell_type": "code",
   "execution_count": 2,
   "id": "84bb1cd9",
   "metadata": {},
   "outputs": [
    {
     "name": "stdout",
     "output_type": "stream",
     "text": [
      "6\n",
      "5\n",
      "4\n",
      "3\n"
     ]
    }
   ],
   "source": [
    "n = 6\n",
    "while n > 1:\n",
    "    if n == 2:\n",
    "        break\n",
    "    else:\n",
    "        print(n)\n",
    "        n = n-1"
   ]
  },
  {
   "cell_type": "code",
   "execution_count": 13,
   "id": "c1a87bc1",
   "metadata": {},
   "outputs": [],
   "source": [
    "class Car (object):\n",
    "    def __init__(self,name,color,engine):\n",
    "        self.name = name\n",
    "        self.color = color\n",
    "        self.engine = engine\n",
    "    \n",
    "    def new_color(self):\n",
    "        self.color = \"transparent\"\n",
    "        return self.color\n",
    "\n",
    "    \n",
    "car1=Car(\"volvo\", \"black\", \"v8\")\n",
    "car2=Car(\"bettle\", \"blue\", \"v1\")\n"
   ]
  },
  {
   "cell_type": "code",
   "execution_count": 21,
   "id": "f0e232cd",
   "metadata": {},
   "outputs": [
    {
     "data": {
      "text/plain": [
       "'transparent'"
      ]
     },
     "execution_count": 21,
     "metadata": {},
     "output_type": "execute_result"
    }
   ],
   "source": [
    "car1.new_color()"
   ]
  },
  {
   "cell_type": "code",
   "execution_count": 19,
   "id": "f37e838a",
   "metadata": {},
   "outputs": [
    {
     "data": {
      "text/plain": [
       "'transparent'"
      ]
     },
     "execution_count": 19,
     "metadata": {},
     "output_type": "execute_result"
    }
   ],
   "source": [
    "car2.color"
   ]
  },
  {
   "cell_type": "code",
   "execution_count": 18,
   "id": "4cbb1aeb",
   "metadata": {},
   "outputs": [
    {
     "data": {
      "text/plain": [
       "'v8'"
      ]
     },
     "execution_count": 18,
     "metadata": {},
     "output_type": "execute_result"
    }
   ],
   "source": [
    "car1.engine"
   ]
  },
  {
   "cell_type": "code",
   "execution_count": 31,
   "id": "d39addd1",
   "metadata": {},
   "outputs": [
    {
     "data": {
      "text/plain": [
       "'v1'"
      ]
     },
     "execution_count": 31,
     "metadata": {},
     "output_type": "execute_result"
    }
   ],
   "source": [
    "car2.engine"
   ]
  },
  {
   "cell_type": "code",
   "execution_count": 8,
   "id": "0542def9",
   "metadata": {},
   "outputs": [],
   "source": [
    "import pandas as pd\n",
    "import seaborn as sns\n",
    "import matplotlib.pyplot as plt"
   ]
  },
  {
   "cell_type": "code",
   "execution_count": 10,
   "id": "e049eb6d",
   "metadata": {},
   "outputs": [],
   "source": [
    "ss1 = {'names': ['ade', 'bayo', 'kunle', 'tolu'], 'age': [24,24,13,45], 'gender': ['m','f','f','m'], 'salary': [2000, 20000, 4000, 4000]}\n",
    "\n",
    "ss1_df = pd.DataFrame(ss1)"
   ]
  },
  {
   "cell_type": "code",
   "execution_count": 11,
   "id": "9b049384",
   "metadata": {},
   "outputs": [
    {
     "data": {
      "text/html": [
       "<div>\n",
       "<style scoped>\n",
       "    .dataframe tbody tr th:only-of-type {\n",
       "        vertical-align: middle;\n",
       "    }\n",
       "\n",
       "    .dataframe tbody tr th {\n",
       "        vertical-align: top;\n",
       "    }\n",
       "\n",
       "    .dataframe thead th {\n",
       "        text-align: right;\n",
       "    }\n",
       "</style>\n",
       "<table border=\"1\" class=\"dataframe\">\n",
       "  <thead>\n",
       "    <tr style=\"text-align: right;\">\n",
       "      <th></th>\n",
       "      <th>names</th>\n",
       "      <th>age</th>\n",
       "      <th>gender</th>\n",
       "      <th>salary</th>\n",
       "    </tr>\n",
       "  </thead>\n",
       "  <tbody>\n",
       "    <tr>\n",
       "      <th>0</th>\n",
       "      <td>ade</td>\n",
       "      <td>24</td>\n",
       "      <td>m</td>\n",
       "      <td>2000</td>\n",
       "    </tr>\n",
       "    <tr>\n",
       "      <th>1</th>\n",
       "      <td>bayo</td>\n",
       "      <td>24</td>\n",
       "      <td>f</td>\n",
       "      <td>20000</td>\n",
       "    </tr>\n",
       "    <tr>\n",
       "      <th>2</th>\n",
       "      <td>kunle</td>\n",
       "      <td>13</td>\n",
       "      <td>f</td>\n",
       "      <td>4000</td>\n",
       "    </tr>\n",
       "    <tr>\n",
       "      <th>3</th>\n",
       "      <td>tolu</td>\n",
       "      <td>45</td>\n",
       "      <td>m</td>\n",
       "      <td>4000</td>\n",
       "    </tr>\n",
       "  </tbody>\n",
       "</table>\n",
       "</div>"
      ],
      "text/plain": [
       "   names  age gender  salary\n",
       "0    ade   24      m    2000\n",
       "1   bayo   24      f   20000\n",
       "2  kunle   13      f    4000\n",
       "3   tolu   45      m    4000"
      ]
     },
     "execution_count": 11,
     "metadata": {},
     "output_type": "execute_result"
    }
   ],
   "source": [
    "ss1_df.head()"
   ]
  },
  {
   "cell_type": "code",
   "execution_count": 106,
   "id": "804bbc03",
   "metadata": {},
   "outputs": [
    {
     "data": {
      "text/plain": [
       "names     0\n",
       "age       0\n",
       "gender    0\n",
       "salary    0\n",
       "dtype: int64"
      ]
     },
     "execution_count": 106,
     "metadata": {},
     "output_type": "execute_result"
    }
   ],
   "source": [
    "ss1_df.isnull().sum()"
   ]
  },
  {
   "cell_type": "code",
   "execution_count": 107,
   "id": "18a4d50d",
   "metadata": {},
   "outputs": [
    {
     "data": {
      "text/html": [
       "<div>\n",
       "<style scoped>\n",
       "    .dataframe tbody tr th:only-of-type {\n",
       "        vertical-align: middle;\n",
       "    }\n",
       "\n",
       "    .dataframe tbody tr th {\n",
       "        vertical-align: top;\n",
       "    }\n",
       "\n",
       "    .dataframe thead th {\n",
       "        text-align: right;\n",
       "    }\n",
       "</style>\n",
       "<table border=\"1\" class=\"dataframe\">\n",
       "  <thead>\n",
       "    <tr style=\"text-align: right;\">\n",
       "      <th></th>\n",
       "      <th>names</th>\n",
       "      <th>age</th>\n",
       "      <th>gender</th>\n",
       "      <th>salary</th>\n",
       "    </tr>\n",
       "  </thead>\n",
       "  <tbody>\n",
       "    <tr>\n",
       "      <th>0</th>\n",
       "      <td>ade</td>\n",
       "      <td>24</td>\n",
       "      <td>m</td>\n",
       "      <td>2000</td>\n",
       "    </tr>\n",
       "    <tr>\n",
       "      <th>1</th>\n",
       "      <td>bayo</td>\n",
       "      <td>24</td>\n",
       "      <td>f</td>\n",
       "      <td>20000</td>\n",
       "    </tr>\n",
       "    <tr>\n",
       "      <th>2</th>\n",
       "      <td>kunle</td>\n",
       "      <td>13</td>\n",
       "      <td>f</td>\n",
       "      <td>4000</td>\n",
       "    </tr>\n",
       "    <tr>\n",
       "      <th>3</th>\n",
       "      <td>tolu</td>\n",
       "      <td>45</td>\n",
       "      <td>m</td>\n",
       "      <td>4000</td>\n",
       "    </tr>\n",
       "  </tbody>\n",
       "</table>\n",
       "</div>"
      ],
      "text/plain": [
       "   names  age gender  salary\n",
       "0    ade   24      m    2000\n",
       "1   bayo   24      f   20000\n",
       "2  kunle   13      f    4000\n",
       "3   tolu   45      m    4000"
      ]
     },
     "execution_count": 107,
     "metadata": {},
     "output_type": "execute_result"
    }
   ],
   "source": [
    "ss1_df.dropna()"
   ]
  },
  {
   "cell_type": "code",
   "execution_count": 110,
   "id": "682cf4af",
   "metadata": {},
   "outputs": [
    {
     "data": {
      "text/plain": [
       "<AxesSubplot:xlabel='age', ylabel='count'>"
      ]
     },
     "execution_count": 110,
     "metadata": {},
     "output_type": "execute_result"
    },
    {
     "data": {
      "image/png": "[encoded data removed]",
      "text/plain": [
       "<Figure size 432x288 with 1 Axes>"
      ]
     },
     "metadata": {
      "needs_background": "light"
     },
     "output_type": "display_data"
    }
   ],
   "source": [
    "sns.countplot(x= 'age' , hue = 'salary',data = ss1_df)"
   ]
  },
  {
   "cell_type": "code",
   "execution_count": null,
   "id": "b39b54ab",
   "metadata": {},
   "outputs": [],
   "source": [
    "sns.distplot()"
   ]
  },
  {
   "cell_type": "code",
   "execution_count": 100,
   "id": "a4f72b0f",
   "metadata": {},
   "outputs": [
    {
     "data": {
      "text/plain": [
       "<AxesSubplot:xlabel='age'>"
      ]
     },
     "execution_count": 100,
     "metadata": {},
     "output_type": "execute_result"
    },
    {
     "data": {
      "image/png": "[encoded data removed]",
      "text/plain": [
       "<Figure size 432x288 with 1 Axes>"
      ]
     },
     "metadata": {
      "needs_background": "light"
     },
     "output_type": "display_data"
    }
   ],
   "source": [
    "sns.boxplot(x=ss1_df['age'])"
   ]
  },
  {
   "cell_type": "code",
   "execution_count": 103,
   "id": "9fa25578",
   "metadata": {},
   "outputs": [
    {
     "data": {
      "text/plain": [
       "<AxesSubplot:ylabel='Frequency'>"
      ]
     },
     "execution_count": 103,
     "metadata": {},
     "output_type": "execute_result"
    },
    {
     "data": {
      "image/png": "[encoded data removed]",
      "text/plain": [
       "<Figure size 432x288 with 1 Axes>"
      ]
     },
     "metadata": {
      "needs_background": "light"
     },
     "output_type": "display_data"
    }
   ],
   "source": [
    "ss1_df[\"age\"].plot.hist()"
   ]
  },
  {
   "cell_type": "code",
   "execution_count": 121,
   "id": "8e160afd",
   "metadata": {},
   "outputs": [],
   "source": [
    "df= pd.read_csv(r'C:\\Users\\USER\\Downloads\\csv-files\\housecsv.csv')"
   ]
  },
  {
   "cell_type": "code",
   "execution_count": 125,
   "id": "66487882",
   "metadata": {},
   "outputs": [
    {
     "data": {
      "text/html": [
       "<div>\n",
       "<style scoped>\n",
       "    .dataframe tbody tr th:only-of-type {\n",
       "        vertical-align: middle;\n",
       "    }\n",
       "\n",
       "    .dataframe tbody tr th {\n",
       "        vertical-align: top;\n",
       "    }\n",
       "\n",
       "    .dataframe thead th {\n",
       "        text-align: right;\n",
       "    }\n",
       "</style>\n",
       "<table border=\"1\" class=\"dataframe\">\n",
       "  <thead>\n",
       "    <tr style=\"text-align: right;\">\n",
       "      <th></th>\n",
       "      <th>MsCode</th>\n",
       "      <th>HECCode</th>\n",
       "      <th>Estimate</th>\n",
       "      <th>RSE</th>\n",
       "      <th>Flag</th>\n",
       "    </tr>\n",
       "  </thead>\n",
       "  <tbody>\n",
       "    <tr>\n",
       "      <th>0</th>\n",
       "      <td>M003</td>\n",
       "      <td>Total Gross</td>\n",
       "      <td>2.441552e+09</td>\n",
       "      <td>NaN</td>\n",
       "      <td>R</td>\n",
       "    </tr>\n",
       "    <tr>\n",
       "      <th>1</th>\n",
       "      <td>M003</td>\n",
       "      <td>Total Net</td>\n",
       "      <td>2.370611e+09</td>\n",
       "      <td>NaN</td>\n",
       "      <td>R</td>\n",
       "    </tr>\n",
       "    <tr>\n",
       "      <th>2</th>\n",
       "      <td>M003</td>\n",
       "      <td>01</td>\n",
       "      <td>4.105492e+08</td>\n",
       "      <td>NaN</td>\n",
       "      <td>R</td>\n",
       "    </tr>\n",
       "    <tr>\n",
       "      <th>3</th>\n",
       "      <td>M003</td>\n",
       "      <td>01.1</td>\n",
       "      <td>4.136560e+07</td>\n",
       "      <td>NaN</td>\n",
       "      <td>R</td>\n",
       "    </tr>\n",
       "    <tr>\n",
       "      <th>4</th>\n",
       "      <td>M003</td>\n",
       "      <td>01.1.01</td>\n",
       "      <td>1.686880e+07</td>\n",
       "      <td>NaN</td>\n",
       "      <td>R</td>\n",
       "    </tr>\n",
       "  </tbody>\n",
       "</table>\n",
       "</div>"
      ],
      "text/plain": [
       "  MsCode      HECCode      Estimate  RSE Flag\n",
       "0   M003  Total Gross  2.441552e+09  NaN    R\n",
       "1   M003    Total Net  2.370611e+09  NaN    R\n",
       "2   M003           01  4.105492e+08  NaN    R\n",
       "3   M003         01.1  4.136560e+07  NaN    R\n",
       "4   M003      01.1.01  1.686880e+07  NaN    R"
      ]
     },
     "execution_count": 125,
     "metadata": {},
     "output_type": "execute_result"
    }
   ],
   "source": []
  },
  {
   "cell_type": "code",
   "execution_count": 130,
   "id": "be356904",
   "metadata": {},
   "outputs": [],
   "source": [
    "ade= pd.read_csv(r'C:\\Users\\USER\\Downloads\\csv-files\\housecsv.csv')"
   ]
  },
  {
   "cell_type": "code",
   "execution_count": 131,
   "id": "45aa2136",
   "metadata": {},
   "outputs": [
    {
     "data": {
      "text/html": [
       "<div>\n",
       "<style scoped>\n",
       "    .dataframe tbody tr th:only-of-type {\n",
       "        vertical-align: middle;\n",
       "    }\n",
       "\n",
       "    .dataframe tbody tr th {\n",
       "        vertical-align: top;\n",
       "    }\n",
       "\n",
       "    .dataframe thead th {\n",
       "        text-align: right;\n",
       "    }\n",
       "</style>\n",
       "<table border=\"1\" class=\"dataframe\">\n",
       "  <thead>\n",
       "    <tr style=\"text-align: right;\">\n",
       "      <th></th>\n",
       "      <th>MsCode</th>\n",
       "      <th>HECCode</th>\n",
       "      <th>Estimate</th>\n",
       "      <th>RSE</th>\n",
       "      <th>Flag</th>\n",
       "    </tr>\n",
       "  </thead>\n",
       "  <tbody>\n",
       "    <tr>\n",
       "      <th>0</th>\n",
       "      <td>M003</td>\n",
       "      <td>Total Gross</td>\n",
       "      <td>2.441552e+09</td>\n",
       "      <td>NaN</td>\n",
       "      <td>R</td>\n",
       "    </tr>\n",
       "    <tr>\n",
       "      <th>1</th>\n",
       "      <td>M003</td>\n",
       "      <td>Total Net</td>\n",
       "      <td>2.370611e+09</td>\n",
       "      <td>NaN</td>\n",
       "      <td>R</td>\n",
       "    </tr>\n",
       "    <tr>\n",
       "      <th>2</th>\n",
       "      <td>M003</td>\n",
       "      <td>01</td>\n",
       "      <td>4.105492e+08</td>\n",
       "      <td>NaN</td>\n",
       "      <td>R</td>\n",
       "    </tr>\n",
       "    <tr>\n",
       "      <th>3</th>\n",
       "      <td>M003</td>\n",
       "      <td>01.1</td>\n",
       "      <td>4.136560e+07</td>\n",
       "      <td>NaN</td>\n",
       "      <td>R</td>\n",
       "    </tr>\n",
       "    <tr>\n",
       "      <th>4</th>\n",
       "      <td>M003</td>\n",
       "      <td>01.1.01</td>\n",
       "      <td>1.686880e+07</td>\n",
       "      <td>NaN</td>\n",
       "      <td>R</td>\n",
       "    </tr>\n",
       "    <tr>\n",
       "      <th>...</th>\n",
       "      <td>...</td>\n",
       "      <td>...</td>\n",
       "      <td>...</td>\n",
       "      <td>...</td>\n",
       "      <td>...</td>\n",
       "    </tr>\n",
       "    <tr>\n",
       "      <th>11751</th>\n",
       "      <td>M004</td>\n",
       "      <td>14.9.03.0</td>\n",
       "      <td>4.500000e+00</td>\n",
       "      <td>NaN</td>\n",
       "      <td>M</td>\n",
       "    </tr>\n",
       "    <tr>\n",
       "      <th>11752</th>\n",
       "      <td>M004</td>\n",
       "      <td>14.9.03.0.0</td>\n",
       "      <td>4.500000e+00</td>\n",
       "      <td>NaN</td>\n",
       "      <td>M</td>\n",
       "    </tr>\n",
       "    <tr>\n",
       "      <th>11753</th>\n",
       "      <td>M004</td>\n",
       "      <td>14.9.03.0.0.69</td>\n",
       "      <td>5.000000e-01</td>\n",
       "      <td>NaN</td>\n",
       "      <td>L</td>\n",
       "    </tr>\n",
       "    <tr>\n",
       "      <th>11754</th>\n",
       "      <td>M004</td>\n",
       "      <td>14.9.03.0.0.79</td>\n",
       "      <td>NaN</td>\n",
       "      <td>NaN</td>\n",
       "      <td>S</td>\n",
       "    </tr>\n",
       "    <tr>\n",
       "      <th>11755</th>\n",
       "      <td>M004</td>\n",
       "      <td>14.9.03.0.0.89</td>\n",
       "      <td>4.100000e+00</td>\n",
       "      <td>NaN</td>\n",
       "      <td>M</td>\n",
       "    </tr>\n",
       "  </tbody>\n",
       "</table>\n",
       "<p>11756 rows × 5 columns</p>\n",
       "</div>"
      ],
      "text/plain": [
       "      MsCode         HECCode      Estimate  RSE Flag\n",
       "0       M003     Total Gross  2.441552e+09  NaN    R\n",
       "1       M003       Total Net  2.370611e+09  NaN    R\n",
       "2       M003              01  4.105492e+08  NaN    R\n",
       "3       M003            01.1  4.136560e+07  NaN    R\n",
       "4       M003         01.1.01  1.686880e+07  NaN    R\n",
       "...      ...             ...           ...  ...  ...\n",
       "11751   M004       14.9.03.0  4.500000e+00  NaN    M\n",
       "11752   M004     14.9.03.0.0  4.500000e+00  NaN    M\n",
       "11753   M004  14.9.03.0.0.69  5.000000e-01  NaN    L\n",
       "11754   M004  14.9.03.0.0.79           NaN  NaN    S\n",
       "11755   M004  14.9.03.0.0.89  4.100000e+00  NaN    M\n",
       "\n",
       "[11756 rows x 5 columns]"
      ]
     },
     "execution_count": 131,
     "metadata": {},
     "output_type": "execute_result"
    }
   ],
   "source": [
    "ade"
   ]
  },
  {
   "cell_type": "code",
   "execution_count": 137,
   "id": "f570561e",
   "metadata": {},
   "outputs": [
    {
     "data": {
      "text/plain": [
       "MsCode         0\n",
       "HECCode        0\n",
       "Estimate    2608\n",
       "RSE         9469\n",
       "Flag           0\n",
       "dtype: int64"
      ]
     },
     "execution_count": 137,
     "metadata": {},
     "output_type": "execute_result"
    }
   ],
   "source": [
    "df.isnull().sum()"
   ]
  },
  {
   "cell_type": "code",
   "execution_count": 138,
   "id": "d5f4e1cc",
   "metadata": {},
   "outputs": [
    {
     "data": {
      "text/html": [
       "<div>\n",
       "<style scoped>\n",
       "    .dataframe tbody tr th:only-of-type {\n",
       "        vertical-align: middle;\n",
       "    }\n",
       "\n",
       "    .dataframe tbody tr th {\n",
       "        vertical-align: top;\n",
       "    }\n",
       "\n",
       "    .dataframe thead th {\n",
       "        text-align: right;\n",
       "    }\n",
       "</style>\n",
       "<table border=\"1\" class=\"dataframe\">\n",
       "  <thead>\n",
       "    <tr style=\"text-align: right;\">\n",
       "      <th></th>\n",
       "      <th>MsCode</th>\n",
       "      <th>HECCode</th>\n",
       "      <th>Estimate</th>\n",
       "      <th>RSE</th>\n",
       "      <th>Flag</th>\n",
       "    </tr>\n",
       "  </thead>\n",
       "  <tbody>\n",
       "    <tr>\n",
       "      <th>5878</th>\n",
       "      <td>M002</td>\n",
       "      <td>Total Gross</td>\n",
       "      <td>127302.546</td>\n",
       "      <td>2.7</td>\n",
       "      <td>R</td>\n",
       "    </tr>\n",
       "    <tr>\n",
       "      <th>5879</th>\n",
       "      <td>M002</td>\n",
       "      <td>Total Net</td>\n",
       "      <td>123603.637</td>\n",
       "      <td>2.7</td>\n",
       "      <td>R</td>\n",
       "    </tr>\n",
       "    <tr>\n",
       "      <th>5880</th>\n",
       "      <td>M002</td>\n",
       "      <td>01</td>\n",
       "      <td>21406.038</td>\n",
       "      <td>2.9</td>\n",
       "      <td>R</td>\n",
       "    </tr>\n",
       "    <tr>\n",
       "      <th>5881</th>\n",
       "      <td>M002</td>\n",
       "      <td>01.1</td>\n",
       "      <td>2156.803</td>\n",
       "      <td>4.0</td>\n",
       "      <td>R</td>\n",
       "    </tr>\n",
       "    <tr>\n",
       "      <th>5882</th>\n",
       "      <td>M002</td>\n",
       "      <td>01.1.01</td>\n",
       "      <td>879.541</td>\n",
       "      <td>4.7</td>\n",
       "      <td>R</td>\n",
       "    </tr>\n",
       "    <tr>\n",
       "      <th>...</th>\n",
       "      <td>...</td>\n",
       "      <td>...</td>\n",
       "      <td>...</td>\n",
       "      <td>...</td>\n",
       "      <td>...</td>\n",
       "    </tr>\n",
       "    <tr>\n",
       "      <th>8811</th>\n",
       "      <td>M002</td>\n",
       "      <td>14.9.03</td>\n",
       "      <td>-192.450</td>\n",
       "      <td>29.1</td>\n",
       "      <td>M</td>\n",
       "    </tr>\n",
       "    <tr>\n",
       "      <th>8812</th>\n",
       "      <td>M002</td>\n",
       "      <td>14.9.03.0</td>\n",
       "      <td>-192.450</td>\n",
       "      <td>29.1</td>\n",
       "      <td>M</td>\n",
       "    </tr>\n",
       "    <tr>\n",
       "      <th>8813</th>\n",
       "      <td>M002</td>\n",
       "      <td>14.9.03.0.0</td>\n",
       "      <td>-192.450</td>\n",
       "      <td>29.1</td>\n",
       "      <td>M</td>\n",
       "    </tr>\n",
       "    <tr>\n",
       "      <th>8814</th>\n",
       "      <td>M002</td>\n",
       "      <td>14.9.03.0.0.69</td>\n",
       "      <td>-66.336</td>\n",
       "      <td>59.6</td>\n",
       "      <td>L</td>\n",
       "    </tr>\n",
       "    <tr>\n",
       "      <th>8816</th>\n",
       "      <td>M002</td>\n",
       "      <td>14.9.03.0.0.89</td>\n",
       "      <td>-126.113</td>\n",
       "      <td>33.2</td>\n",
       "      <td>M</td>\n",
       "    </tr>\n",
       "  </tbody>\n",
       "</table>\n",
       "<p>2287 rows × 5 columns</p>\n",
       "</div>"
      ],
      "text/plain": [
       "     MsCode         HECCode    Estimate   RSE Flag\n",
       "5878   M002     Total Gross  127302.546   2.7    R\n",
       "5879   M002       Total Net  123603.637   2.7    R\n",
       "5880   M002              01   21406.038   2.9    R\n",
       "5881   M002            01.1    2156.803   4.0    R\n",
       "5882   M002         01.1.01     879.541   4.7    R\n",
       "...     ...             ...         ...   ...  ...\n",
       "8811   M002         14.9.03    -192.450  29.1    M\n",
       "8812   M002       14.9.03.0    -192.450  29.1    M\n",
       "8813   M002     14.9.03.0.0    -192.450  29.1    M\n",
       "8814   M002  14.9.03.0.0.69     -66.336  59.6    L\n",
       "8816   M002  14.9.03.0.0.89    -126.113  33.2    M\n",
       "\n",
       "[2287 rows x 5 columns]"
      ]
     },
     "execution_count": 138,
     "metadata": {},
     "output_type": "execute_result"
    }
   ],
   "source": [
    "df.dropna()"
   ]
  },
  {
   "cell_type": "code",
   "execution_count": null,
   "id": "e7eec992",
   "metadata": {},
   "outputs": [],
   "source": [
    "df.dropna()"
   ]
  },
  {
   "cell_type": "code",
   "execution_count": null,
   "id": "ce723028",
   "metadata": {},
   "outputs": [],
   "source": [
    "sns.countplot(x= 'Estimate',data = df)"
   ]
  },
  {
   "cell_type": "code",
   "execution_count": 12,
   "id": "9a4d6a74",
   "metadata": {},
   "outputs": [],
   "source": [
    "import numpy as np"
   ]
  },
  {
   "cell_type": "code",
   "execution_count": 13,
   "id": "3e714a2d",
   "metadata": {},
   "outputs": [],
   "source": [
    "b = np.array([1,3,4,5,5,6,7,4])"
   ]
  },
  {
   "cell_type": "code",
   "execution_count": 14,
   "id": "fa957345",
   "metadata": {},
   "outputs": [
    {
     "data": {
      "text/plain": [
       "<seaborn.axisgrid.FacetGrid at 0xaa82220>"
      ]
     },
     "execution_count": 14,
     "metadata": {},
     "output_type": "execute_result"
    },
    {
     "data": {
      "image/png": "[encoded data removed]",
      "text/plain": [
       "<Figure size 360x360 with 1 Axes>"
      ]
     },
     "metadata": {
      "needs_background": "light"
     },
     "output_type": "display_data"
    }
   ],
   "source": [
    "sns.displot(b)"
   ]
  },
  {
   "cell_type": "code",
   "execution_count": null,
   "id": "4b437167",
   "metadata": {},
   "outputs": [],
   "source": []
  }
 ],
 "metadata": {
  "kernelspec": {
   "display_name": "Python 3",
   "language": "python",
   "name": "python3"
  },
  "language_info": {
   "codemirror_mode": {
    "name": "ipython",
    "version": 3
   },
   "file_extension": ".py",
   "mimetype": "text/x-python",
   "name": "python",
   "nbconvert_exporter": "python",
   "pygments_lexer": "ipython3",
   "version": "3.8.8"
  }
 },
 "nbformat": 4,
 "nbformat_minor": 5
}
